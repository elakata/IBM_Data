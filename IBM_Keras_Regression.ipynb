{
  "nbformat": 4,
  "nbformat_minor": 0,
  "metadata": {
    "colab": {
      "name": "IBM Keras Regression",
      "provenance": [],
      "collapsed_sections": []
    },
    "kernelspec": {
      "name": "python3",
      "display_name": "Python 3"
    }
  },
  "cells": [
    {
      "cell_type": "markdown",
      "metadata": {
        "id": "Lt4fvbHe3fLW",
        "colab_type": "text"
      },
      "source": [
        "# Keras regression to predict strength of concrete"
      ]
    },
    {
      "cell_type": "code",
      "metadata": {
        "id": "nxbWNsXtnnfh",
        "colab_type": "code",
        "colab": {
          "base_uri": "https://localhost:8080/",
          "height": 34
        },
        "outputId": "fa94f729-c0e1-4ec5-e40f-1fd4e4f3f090"
      },
      "source": [
        "import pandas as pd\n",
        "import numpy as np\n",
        "import keras\n",
        "from keras.models import Sequential\n",
        "from keras.layers import Dense\n",
        "from sklearn.model_selection import train_test_split\n",
        "from sklearn.metrics import mean_squared_error"
      ],
      "execution_count": 1,
      "outputs": [
        {
          "output_type": "stream",
          "text": [
            "Using TensorFlow backend.\n"
          ],
          "name": "stderr"
        }
      ]
    },
    {
      "cell_type": "markdown",
      "metadata": {
        "id": "ykfBy1_S3vxu",
        "colab_type": "text"
      },
      "source": [
        "### Importing the data"
      ]
    },
    {
      "cell_type": "code",
      "metadata": {
        "id": "FUwNznHen4bw",
        "colab_type": "code",
        "colab": {
          "base_uri": "https://localhost:8080/",
          "height": 197
        },
        "outputId": "f0ad6eb8-d79f-4b65-f3d9-33f88be1d536"
      },
      "source": [
        "concrete_data = pd.read_csv('https://s3-api.us-geo.objectstorage.softlayer.net/cf-courses-data/CognitiveClass/DL0101EN/labs/data/concrete_data.csv')\n",
        "concrete_data.head()"
      ],
      "execution_count": 2,
      "outputs": [
        {
          "output_type": "execute_result",
          "data": {
            "text/html": [
              "<div>\n",
              "<style scoped>\n",
              "    .dataframe tbody tr th:only-of-type {\n",
              "        vertical-align: middle;\n",
              "    }\n",
              "\n",
              "    .dataframe tbody tr th {\n",
              "        vertical-align: top;\n",
              "    }\n",
              "\n",
              "    .dataframe thead th {\n",
              "        text-align: right;\n",
              "    }\n",
              "</style>\n",
              "<table border=\"1\" class=\"dataframe\">\n",
              "  <thead>\n",
              "    <tr style=\"text-align: right;\">\n",
              "      <th></th>\n",
              "      <th>Cement</th>\n",
              "      <th>Blast Furnace Slag</th>\n",
              "      <th>Fly Ash</th>\n",
              "      <th>Water</th>\n",
              "      <th>Superplasticizer</th>\n",
              "      <th>Coarse Aggregate</th>\n",
              "      <th>Fine Aggregate</th>\n",
              "      <th>Age</th>\n",
              "      <th>Strength</th>\n",
              "    </tr>\n",
              "  </thead>\n",
              "  <tbody>\n",
              "    <tr>\n",
              "      <th>0</th>\n",
              "      <td>540.0</td>\n",
              "      <td>0.0</td>\n",
              "      <td>0.0</td>\n",
              "      <td>162.0</td>\n",
              "      <td>2.5</td>\n",
              "      <td>1040.0</td>\n",
              "      <td>676.0</td>\n",
              "      <td>28</td>\n",
              "      <td>79.99</td>\n",
              "    </tr>\n",
              "    <tr>\n",
              "      <th>1</th>\n",
              "      <td>540.0</td>\n",
              "      <td>0.0</td>\n",
              "      <td>0.0</td>\n",
              "      <td>162.0</td>\n",
              "      <td>2.5</td>\n",
              "      <td>1055.0</td>\n",
              "      <td>676.0</td>\n",
              "      <td>28</td>\n",
              "      <td>61.89</td>\n",
              "    </tr>\n",
              "    <tr>\n",
              "      <th>2</th>\n",
              "      <td>332.5</td>\n",
              "      <td>142.5</td>\n",
              "      <td>0.0</td>\n",
              "      <td>228.0</td>\n",
              "      <td>0.0</td>\n",
              "      <td>932.0</td>\n",
              "      <td>594.0</td>\n",
              "      <td>270</td>\n",
              "      <td>40.27</td>\n",
              "    </tr>\n",
              "    <tr>\n",
              "      <th>3</th>\n",
              "      <td>332.5</td>\n",
              "      <td>142.5</td>\n",
              "      <td>0.0</td>\n",
              "      <td>228.0</td>\n",
              "      <td>0.0</td>\n",
              "      <td>932.0</td>\n",
              "      <td>594.0</td>\n",
              "      <td>365</td>\n",
              "      <td>41.05</td>\n",
              "    </tr>\n",
              "    <tr>\n",
              "      <th>4</th>\n",
              "      <td>198.6</td>\n",
              "      <td>132.4</td>\n",
              "      <td>0.0</td>\n",
              "      <td>192.0</td>\n",
              "      <td>0.0</td>\n",
              "      <td>978.4</td>\n",
              "      <td>825.5</td>\n",
              "      <td>360</td>\n",
              "      <td>44.30</td>\n",
              "    </tr>\n",
              "  </tbody>\n",
              "</table>\n",
              "</div>"
            ],
            "text/plain": [
              "   Cement  Blast Furnace Slag  Fly Ash  ...  Fine Aggregate  Age  Strength\n",
              "0   540.0                 0.0      0.0  ...           676.0   28     79.99\n",
              "1   540.0                 0.0      0.0  ...           676.0   28     61.89\n",
              "2   332.5               142.5      0.0  ...           594.0  270     40.27\n",
              "3   332.5               142.5      0.0  ...           594.0  365     41.05\n",
              "4   198.6               132.4      0.0  ...           825.5  360     44.30\n",
              "\n",
              "[5 rows x 9 columns]"
            ]
          },
          "metadata": {
            "tags": []
          },
          "execution_count": 2
        }
      ]
    },
    {
      "cell_type": "markdown",
      "metadata": {
        "id": "628jnBaY30BR",
        "colab_type": "text"
      },
      "source": [
        "There are 9 features, and 1030 observations"
      ]
    },
    {
      "cell_type": "code",
      "metadata": {
        "id": "MrRedoXXn68U",
        "colab_type": "code",
        "colab": {
          "base_uri": "https://localhost:8080/",
          "height": 34
        },
        "outputId": "3fa3b649-e002-4907-ac66-480eb2b0f39f"
      },
      "source": [
        "concrete_data.shape"
      ],
      "execution_count": 3,
      "outputs": [
        {
          "output_type": "execute_result",
          "data": {
            "text/plain": [
              "(1030, 9)"
            ]
          },
          "metadata": {
            "tags": []
          },
          "execution_count": 3
        }
      ]
    },
    {
      "cell_type": "markdown",
      "metadata": {
        "id": "rVf_v6di33jR",
        "colab_type": "text"
      },
      "source": [
        "Summary of data characteristics"
      ]
    },
    {
      "cell_type": "code",
      "metadata": {
        "id": "RmgvaG_Cn-p-",
        "colab_type": "code",
        "colab": {
          "base_uri": "https://localhost:8080/",
          "height": 287
        },
        "outputId": "4a20bc3f-c9d3-499e-dfc6-650c7083981b"
      },
      "source": [
        "concrete_data.describe()"
      ],
      "execution_count": 4,
      "outputs": [
        {
          "output_type": "execute_result",
          "data": {
            "text/html": [
              "<div>\n",
              "<style scoped>\n",
              "    .dataframe tbody tr th:only-of-type {\n",
              "        vertical-align: middle;\n",
              "    }\n",
              "\n",
              "    .dataframe tbody tr th {\n",
              "        vertical-align: top;\n",
              "    }\n",
              "\n",
              "    .dataframe thead th {\n",
              "        text-align: right;\n",
              "    }\n",
              "</style>\n",
              "<table border=\"1\" class=\"dataframe\">\n",
              "  <thead>\n",
              "    <tr style=\"text-align: right;\">\n",
              "      <th></th>\n",
              "      <th>Cement</th>\n",
              "      <th>Blast Furnace Slag</th>\n",
              "      <th>Fly Ash</th>\n",
              "      <th>Water</th>\n",
              "      <th>Superplasticizer</th>\n",
              "      <th>Coarse Aggregate</th>\n",
              "      <th>Fine Aggregate</th>\n",
              "      <th>Age</th>\n",
              "      <th>Strength</th>\n",
              "    </tr>\n",
              "  </thead>\n",
              "  <tbody>\n",
              "    <tr>\n",
              "      <th>count</th>\n",
              "      <td>1030.000000</td>\n",
              "      <td>1030.000000</td>\n",
              "      <td>1030.000000</td>\n",
              "      <td>1030.000000</td>\n",
              "      <td>1030.000000</td>\n",
              "      <td>1030.000000</td>\n",
              "      <td>1030.000000</td>\n",
              "      <td>1030.000000</td>\n",
              "      <td>1030.000000</td>\n",
              "    </tr>\n",
              "    <tr>\n",
              "      <th>mean</th>\n",
              "      <td>281.167864</td>\n",
              "      <td>73.895825</td>\n",
              "      <td>54.188350</td>\n",
              "      <td>181.567282</td>\n",
              "      <td>6.204660</td>\n",
              "      <td>972.918932</td>\n",
              "      <td>773.580485</td>\n",
              "      <td>45.662136</td>\n",
              "      <td>35.817961</td>\n",
              "    </tr>\n",
              "    <tr>\n",
              "      <th>std</th>\n",
              "      <td>104.506364</td>\n",
              "      <td>86.279342</td>\n",
              "      <td>63.997004</td>\n",
              "      <td>21.354219</td>\n",
              "      <td>5.973841</td>\n",
              "      <td>77.753954</td>\n",
              "      <td>80.175980</td>\n",
              "      <td>63.169912</td>\n",
              "      <td>16.705742</td>\n",
              "    </tr>\n",
              "    <tr>\n",
              "      <th>min</th>\n",
              "      <td>102.000000</td>\n",
              "      <td>0.000000</td>\n",
              "      <td>0.000000</td>\n",
              "      <td>121.800000</td>\n",
              "      <td>0.000000</td>\n",
              "      <td>801.000000</td>\n",
              "      <td>594.000000</td>\n",
              "      <td>1.000000</td>\n",
              "      <td>2.330000</td>\n",
              "    </tr>\n",
              "    <tr>\n",
              "      <th>25%</th>\n",
              "      <td>192.375000</td>\n",
              "      <td>0.000000</td>\n",
              "      <td>0.000000</td>\n",
              "      <td>164.900000</td>\n",
              "      <td>0.000000</td>\n",
              "      <td>932.000000</td>\n",
              "      <td>730.950000</td>\n",
              "      <td>7.000000</td>\n",
              "      <td>23.710000</td>\n",
              "    </tr>\n",
              "    <tr>\n",
              "      <th>50%</th>\n",
              "      <td>272.900000</td>\n",
              "      <td>22.000000</td>\n",
              "      <td>0.000000</td>\n",
              "      <td>185.000000</td>\n",
              "      <td>6.400000</td>\n",
              "      <td>968.000000</td>\n",
              "      <td>779.500000</td>\n",
              "      <td>28.000000</td>\n",
              "      <td>34.445000</td>\n",
              "    </tr>\n",
              "    <tr>\n",
              "      <th>75%</th>\n",
              "      <td>350.000000</td>\n",
              "      <td>142.950000</td>\n",
              "      <td>118.300000</td>\n",
              "      <td>192.000000</td>\n",
              "      <td>10.200000</td>\n",
              "      <td>1029.400000</td>\n",
              "      <td>824.000000</td>\n",
              "      <td>56.000000</td>\n",
              "      <td>46.135000</td>\n",
              "    </tr>\n",
              "    <tr>\n",
              "      <th>max</th>\n",
              "      <td>540.000000</td>\n",
              "      <td>359.400000</td>\n",
              "      <td>200.100000</td>\n",
              "      <td>247.000000</td>\n",
              "      <td>32.200000</td>\n",
              "      <td>1145.000000</td>\n",
              "      <td>992.600000</td>\n",
              "      <td>365.000000</td>\n",
              "      <td>82.600000</td>\n",
              "    </tr>\n",
              "  </tbody>\n",
              "</table>\n",
              "</div>"
            ],
            "text/plain": [
              "            Cement  Blast Furnace Slag  ...          Age     Strength\n",
              "count  1030.000000         1030.000000  ...  1030.000000  1030.000000\n",
              "mean    281.167864           73.895825  ...    45.662136    35.817961\n",
              "std     104.506364           86.279342  ...    63.169912    16.705742\n",
              "min     102.000000            0.000000  ...     1.000000     2.330000\n",
              "25%     192.375000            0.000000  ...     7.000000    23.710000\n",
              "50%     272.900000           22.000000  ...    28.000000    34.445000\n",
              "75%     350.000000          142.950000  ...    56.000000    46.135000\n",
              "max     540.000000          359.400000  ...   365.000000    82.600000\n",
              "\n",
              "[8 rows x 9 columns]"
            ]
          },
          "metadata": {
            "tags": []
          },
          "execution_count": 4
        }
      ]
    },
    {
      "cell_type": "markdown",
      "metadata": {
        "id": "54xYW6Lq1DUR",
        "colab_type": "text"
      },
      "source": [
        "The variable \"Strength\" will be predicted from all others"
      ]
    },
    {
      "cell_type": "code",
      "metadata": {
        "id": "uFFZ7RVsoCf3",
        "colab_type": "code",
        "colab": {}
      },
      "source": [
        "concrete_data_columns = concrete_data.columns\n",
        "\n",
        "predictors = concrete_data[concrete_data_columns[concrete_data_columns != 'Strength']] # all columns except Strength\n",
        "target = concrete_data['Strength'] # Strength column"
      ],
      "execution_count": 0,
      "outputs": []
    },
    {
      "cell_type": "markdown",
      "metadata": {
        "id": "p86va5uFqDkc",
        "colab_type": "text"
      },
      "source": [
        "Split the predictors and the target into 70% training, 30% test"
      ]
    },
    {
      "cell_type": "code",
      "metadata": {
        "id": "__kroEzup6n5",
        "colab_type": "code",
        "colab": {}
      },
      "source": [
        "X_train, X_test, y_train, y_test = train_test_split(predictors, target, test_size=0.30, random_state=42)"
      ],
      "execution_count": 0,
      "outputs": []
    },
    {
      "cell_type": "markdown",
      "metadata": {
        "id": "KeqTz76tqPNi",
        "colab_type": "text"
      },
      "source": [
        "Normalize training and test predictors separately"
      ]
    },
    {
      "cell_type": "code",
      "metadata": {
        "id": "SDwBi8CIoFIS",
        "colab_type": "code",
        "colab": {}
      },
      "source": [
        "X_train_norm = (X_train - X_train.mean()) / X_train.std()\n",
        "X_test_norm = (X_test - X_test.mean()) / X_test.std()\n",
        "#X_train_norm.head()"
      ],
      "execution_count": 0,
      "outputs": []
    },
    {
      "cell_type": "code",
      "metadata": {
        "id": "Lm7fBeyXoJ6z",
        "colab_type": "code",
        "colab": {}
      },
      "source": [
        "n_cols = predictors.shape[1] # number of predictors"
      ],
      "execution_count": 0,
      "outputs": []
    },
    {
      "cell_type": "markdown",
      "metadata": {
        "id": "7AQ9wvRg1Tzr",
        "colab_type": "text"
      },
      "source": [
        "Function to perform one trial of fitting and evaluating the model"
      ]
    },
    {
      "cell_type": "code",
      "metadata": {
        "id": "SQ5oPhMhsOQ3",
        "colab_type": "code",
        "colab": {}
      },
      "source": [
        "# Function to perform one repetition of training and evaluating\n",
        "def train_and_eval_model(predictors_train, target_train, predictors_test, target_test\n",
        "                         , num_epochs, model_to_use) :\n",
        "  model_to_use.fit(predictors_train, target_train, validation_split=0.3, epochs=num_epochs, verbose=0)\n",
        "  predicted_test = model_to_use.predict(predictors_test)\n",
        "  MSE_test = mean_squared_error(target_test, predicted_test)\n",
        "\n",
        "  return MSE_test"
      ],
      "execution_count": 0,
      "outputs": []
    },
    {
      "cell_type": "markdown",
      "metadata": {
        "id": "WTGVNrlT1a3a",
        "colab_type": "text"
      },
      "source": [
        "Function to create a regression model with 1 hidden layer"
      ]
    },
    {
      "cell_type": "code",
      "metadata": {
        "id": "Zxdp3gr1wUd8",
        "colab_type": "code",
        "colab": {}
      },
      "source": [
        "# define regression model with 1 hidden layer\n",
        "def regression_model_1h( num_hidden_nodes  ):\n",
        "    # create model\n",
        "    model = Sequential()\n",
        "    model.add(Dense(num_hidden_nodes, activation='relu', input_shape=(n_cols,)))\n",
        "    model.add(Dense(1))\n",
        "    \n",
        "    # compile model\n",
        "    model.compile(optimizer='adam', loss='mean_squared_error')\n",
        "    return model"
      ],
      "execution_count": 0,
      "outputs": []
    },
    {
      "cell_type": "markdown",
      "metadata": {
        "id": "PNSiXb2U1gQ0",
        "colab_type": "text"
      },
      "source": [
        "Function to create a regression model with 3 hidden layers"
      ]
    },
    {
      "cell_type": "code",
      "metadata": {
        "id": "dgeGeGuGx6t-",
        "colab_type": "code",
        "colab": {}
      },
      "source": [
        "# define regression model with 3 hidden layers\n",
        "def regression_model_3h( num_hidden_nodes  ):\n",
        "    # create model\n",
        "    model = Sequential()\n",
        "    model.add(Dense(num_hidden_nodes, activation='relu', input_shape=(n_cols,)))\n",
        "    model.add(Dense(num_hidden_nodes, activation='relu'))\n",
        "    model.add(Dense(num_hidden_nodes, activation='relu'))\n",
        "    model.add(Dense(1))\n",
        "    \n",
        "    # compile model\n",
        "    model.compile(optimizer='adam', loss='mean_squared_error')\n",
        "    return model"
      ],
      "execution_count": 0,
      "outputs": []
    },
    {
      "cell_type": "markdown",
      "metadata": {
        "id": "vK-UTz8j1kCM",
        "colab_type": "text"
      },
      "source": [
        "Building the models before fitting"
      ]
    },
    {
      "cell_type": "code",
      "metadata": {
        "id": "BjqsLGRQwZ4S",
        "colab_type": "code",
        "colab": {}
      },
      "source": [
        "# build the model with 1 hidden layers for parts A-C\n",
        "model_1_hidden_layers = regression_model_1h(10)"
      ],
      "execution_count": 0,
      "outputs": []
    },
    {
      "cell_type": "code",
      "metadata": {
        "id": "oSfJTP6OxH2S",
        "colab_type": "code",
        "colab": {}
      },
      "source": [
        "# build the model with 3 hidden layers for parts D\n",
        "model_3_hidden_layers = regression_model_3h(10)"
      ],
      "execution_count": 0,
      "outputs": []
    },
    {
      "cell_type": "markdown",
      "metadata": {
        "id": "afb-hdQ6wqbO",
        "colab_type": "text"
      },
      "source": [
        "### Part A: 1 hidden layer of 10 nodes, non-normalized data, 50 epochs\n",
        "\n"
      ]
    },
    {
      "cell_type": "code",
      "metadata": {
        "id": "21uFXii-u0h7",
        "colab_type": "code",
        "colab": {
          "base_uri": "https://localhost:8080/",
          "height": 212
        },
        "outputId": "985cf7d6-b45c-4faf-92b4-77f1046de78a"
      },
      "source": [
        "MSE_Part_A = np.zeros(50, dtype = float)\n",
        "\n",
        "model_1_hidden_layers = regression_model_1h(10)\n",
        "\n",
        "# Perform 50 trials of training and evaluation\n",
        "for i in range(50):\n",
        "  MSE_test = train_and_eval_model(X_train, y_train, X_test, y_test\n",
        "                                  , 50, model_1_hidden_layers )\n",
        "  MSE_Part_A[i] = MSE_test\n",
        "  if i%5 ==0:\n",
        "    print(\"MSE #\", i, \"has been updated\")\n",
        "\n",
        "# print the mean and stddev of the MSE\n",
        "print(\"mean of MSE is:\", \"{:.2f}\".format( MSE_Part_A.mean() ), \"std dev is:\", \"{:.2f}\".format( MSE_Part_A.std() )  ) # 635.10, 358.24"
      ],
      "execution_count": 16,
      "outputs": [
        {
          "output_type": "stream",
          "text": [
            "MSE # 0 has been updated\n",
            "MSE # 5 has been updated\n",
            "MSE # 10 has been updated\n",
            "MSE # 15 has been updated\n",
            "MSE # 20 has been updated\n",
            "MSE # 25 has been updated\n",
            "MSE # 30 has been updated\n",
            "MSE # 35 has been updated\n",
            "MSE # 40 has been updated\n",
            "MSE # 45 has been updated\n",
            "mean of MSE is: 114.72 std dev is: 21.04\n"
          ],
          "name": "stdout"
        }
      ]
    },
    {
      "cell_type": "markdown",
      "metadata": {
        "id": "JCkYpSQFxeUZ",
        "colab_type": "text"
      },
      "source": [
        "### Part B: 1 hidden layer of 10 nodes, normalized data, 50 epochs"
      ]
    },
    {
      "cell_type": "code",
      "metadata": {
        "id": "5jn-2CQRvpLF",
        "colab_type": "code",
        "colab": {
          "base_uri": "https://localhost:8080/",
          "height": 212
        },
        "outputId": "1a099077-7dea-4a07-f10d-ff95d43eb8df"
      },
      "source": [
        "MSE_Part_B = np.zeros(50, dtype = float)\n",
        "\n",
        "model_1_hidden_layers = regression_model_1h(10)\n",
        "\n",
        "# Perform 50 trials of training and evaluation\n",
        "for i in range(50):\n",
        "  MSE_test = train_and_eval_model(X_train_norm, y_train, X_test_norm, y_test\n",
        "                                  , 50, model_1_hidden_layers )\n",
        "  MSE_Part_B[i] = MSE_test\n",
        "  if i%5 ==0:\n",
        "    print(\"MSE #\", i, \"has been updated\")\n",
        "\n",
        "# print the mean and stddev of the MSE\n",
        "print(\"mean of MSE is:\", \"{:.2f}\".format( MSE_Part_B.mean() ), \"std dev is:\", \"{:.2f}\".format( MSE_Part_B.std() )  ) # 79.95 , 94.00"
      ],
      "execution_count": 17,
      "outputs": [
        {
          "output_type": "stream",
          "text": [
            "MSE # 0 has been updated\n",
            "MSE # 5 has been updated\n",
            "MSE # 10 has been updated\n",
            "MSE # 15 has been updated\n",
            "MSE # 20 has been updated\n",
            "MSE # 25 has been updated\n",
            "MSE # 30 has been updated\n",
            "MSE # 35 has been updated\n",
            "MSE # 40 has been updated\n",
            "MSE # 45 has been updated\n",
            "mean of MSE is: 73.24 std dev is: 68.76\n"
          ],
          "name": "stdout"
        }
      ]
    },
    {
      "cell_type": "markdown",
      "metadata": {
        "id": "SABm43TBxgwe",
        "colab_type": "text"
      },
      "source": [
        "### Part C: 1 hidden layer of 10 nodes, normalized data, 100 epochs"
      ]
    },
    {
      "cell_type": "code",
      "metadata": {
        "id": "R7ad0fzGxjMV",
        "colab_type": "code",
        "colab": {
          "base_uri": "https://localhost:8080/",
          "height": 212
        },
        "outputId": "371b9647-b1b2-4769-fad7-9496e803c57c"
      },
      "source": [
        "MSE_Part_C = np.zeros(50, dtype = float)\n",
        "\n",
        "model_1_hidden_layers = regression_model_1h(10)\n",
        "\n",
        "# Perform 50 trials of training and evaluation\n",
        "for i in range(50):\n",
        "  MSE_test = train_and_eval_model(X_train_norm, y_train, X_test_norm, y_test\n",
        "                                  , 100, model_1_hidden_layers )\n",
        "  MSE_Part_C[i] = MSE_test\n",
        "  if i%5 ==0:\n",
        "    print(\"MSE #\", i, \"has been updated\")\n",
        "\n",
        "# print the mean and stddev of the MSE\n",
        "print(\"mean of MSE is:\", \"{:.2f}\".format( MSE_Part_C.mean() ), \"std dev is:\", \"{:.2f}\".format( MSE_Part_C.std() )  ) # 54.71, 0.28"
      ],
      "execution_count": 18,
      "outputs": [
        {
          "output_type": "stream",
          "text": [
            "MSE # 0 has been updated\n",
            "MSE # 5 has been updated\n",
            "MSE # 10 has been updated\n",
            "MSE # 15 has been updated\n",
            "MSE # 20 has been updated\n",
            "MSE # 25 has been updated\n",
            "MSE # 30 has been updated\n",
            "MSE # 35 has been updated\n",
            "MSE # 40 has been updated\n",
            "MSE # 45 has been updated\n",
            "mean of MSE is: 88.25 std dev is: 14.91\n"
          ],
          "name": "stdout"
        }
      ]
    },
    {
      "cell_type": "markdown",
      "metadata": {
        "id": "2M5UAwLhxkPz",
        "colab_type": "text"
      },
      "source": [
        "### Part D: 3 hidden layers each of 10 nodes, normalized data, 50 epochs"
      ]
    },
    {
      "cell_type": "code",
      "metadata": {
        "id": "R6QGtINwxuEJ",
        "colab_type": "code",
        "colab": {
          "base_uri": "https://localhost:8080/",
          "height": 212
        },
        "outputId": "df79ffab-95b6-4913-c4f4-88eb9a60a49e"
      },
      "source": [
        "MSE_Part_D = np.zeros(50, dtype = float)\n",
        "\n",
        "model_3_hidden_layers = regression_model_3h(10)\n",
        "\n",
        "# Perform 50 trials of training and evaluation\n",
        "for i in range(50):\n",
        "  MSE_test = train_and_eval_model(X_train_norm, y_train, X_test_norm, y_test\n",
        "                                  , 50, model_3_hidden_layers )\n",
        "  MSE_Part_D[i] = MSE_test\n",
        "  if i%5 ==0:\n",
        "    print(\"MSE #\", i, \"has been updated\")\n",
        "\n",
        "# print the mean and stddev of the MSE\n",
        "print(\"mean of MSE is:\", \"{:.2f}\".format( MSE_Part_D.mean() ), \"std dev is:\", \"{:.2f}\".format( MSE_Part_D.std() )  )  # 54.65, 19.18"
      ],
      "execution_count": 19,
      "outputs": [
        {
          "output_type": "stream",
          "text": [
            "MSE # 0 has been updated\n",
            "MSE # 5 has been updated\n",
            "MSE # 10 has been updated\n",
            "MSE # 15 has been updated\n",
            "MSE # 20 has been updated\n",
            "MSE # 25 has been updated\n",
            "MSE # 30 has been updated\n",
            "MSE # 35 has been updated\n",
            "MSE # 40 has been updated\n",
            "MSE # 45 has been updated\n",
            "mean of MSE is: 50.31 std dev is: 20.85\n"
          ],
          "name": "stdout"
        }
      ]
    },
    {
      "cell_type": "markdown",
      "metadata": {
        "id": "wxewEWW56Gp9",
        "colab_type": "text"
      },
      "source": [
        "## Discussion\n",
        "- Part A used non-normalized data, and had the worst perfrmance, with highest MSE. This indicates that it's important to normalize the data prior to fitting the model. \n",
        "- Part B had the same hyperparameters as Part A, but with the data normalized by mean and standard deviation, and it showed an improvement with lower MSE.\n",
        "- Part C had 100 epochs, and showed evidence of over-fitting the test data since it actually had a higher MSE than Part B. This shows that too many epochs may overfit the data. The lower standard deviation also indicates that precision is increasing, even as accuracy is worse.\n",
        "- Part D had 50 epochs again, but with 3 hidden layers instead of 1. This showed an improvement from Part A, with lower MSE and lower standard deviation of MSE. This indicates that more hidden layers can significantly improve a model."
      ]
    },
    {
      "cell_type": "code",
      "metadata": {
        "id": "JGrvzpKL05Ot",
        "colab_type": "code",
        "colab": {
          "base_uri": "https://localhost:8080/",
          "height": 158
        },
        "outputId": "aeab3593-7205-4c62-987f-d01be79f9927"
      },
      "source": [
        "from prettytable import PrettyTable\n",
        "    \n",
        "x = PrettyTable()\n",
        "\n",
        "x.field_names = [\"Part\", \"Description\", \"Mean MSE of Test Data\", \"Std Dev MSE of Test Data\"]\n",
        "\n",
        "x.add_row([\"A\", \"non-normalized, 50 epochs, 1 hidden layer\" , \"{:.2f}\".format( MSE_Part_A.mean() ) , \"{:.2f}\".format( MSE_Part_A.std() )  ])\n",
        "x.add_row([\"B\", \"normalized, 50 epochs, 1 hidden layer\"     , \"{:.2f}\".format( MSE_Part_B.mean() ) , \"{:.2f}\".format( MSE_Part_B.std() )  ])\n",
        "x.add_row([\"C\", \"normalized, 100 epochs, 1 hidden layer\"    , \"{:.2f}\".format( MSE_Part_C.mean() ) , \"{:.2f}\".format( MSE_Part_C.std() )  ])\n",
        "x.add_row([\"D\", \"normalized, 50 epochs, 3 hidden layers\"    , \"{:.2f}\".format( MSE_Part_D.mean() ) , \"{:.2f}\".format( MSE_Part_D.std() )  ])\n",
        "\n",
        "print(x)"
      ],
      "execution_count": 28,
      "outputs": [
        {
          "output_type": "stream",
          "text": [
            "+------+-------------------------------------------+-----------------------+--------------------------+\n",
            "| Part |                Description                | Mean MSE of Test Data | Std Dev MSE of Test Data |\n",
            "+------+-------------------------------------------+-----------------------+--------------------------+\n",
            "|  A   | non-normalized, 50 epochs, 1 hidden layer |         114.72        |          21.04           |\n",
            "|  B   |   normalized, 50 epochs, 1 hidden layer   |         73.24         |          68.76           |\n",
            "|  C   |   normalized, 100 epochs, 1 hidden layer  |         88.25         |          14.91           |\n",
            "|  D   |   normalized, 50 epochs, 3 hidden layers  |         50.31         |          20.85           |\n",
            "+------+-------------------------------------------+-----------------------+--------------------------+\n"
          ],
          "name": "stdout"
        }
      ]
    },
    {
      "cell_type": "code",
      "metadata": {
        "id": "3ljyRZ8D5sVo",
        "colab_type": "code",
        "colab": {}
      },
      "source": [
        ""
      ],
      "execution_count": 0,
      "outputs": []
    }
  ]
}